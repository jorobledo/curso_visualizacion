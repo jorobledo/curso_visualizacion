{
 "cells": [
  {
   "cell_type": "markdown",
   "metadata": {},
   "source": [
    "<center>\n",
    "\n",
    "<h1> Herramientas para la visualización de datos </h1>\n",
    "\n",
    "<h2> Academia Data Driven: Módulo 3 - Unidad 3 <h2>\n",
    "\n",
    "Docente: <a href= \"https://jorobledo.github.io/\"> José Ignacio Robledo </a>\n",
    "</center>"
   ]
  },
  {
   "cell_type": "markdown",
   "metadata": {},
   "source": [
    "### Ejercicio 1\n",
    "\n",
    "a. ) Realice un análisis de datos exploratorio de la base de datos `impo_todo.csv` (dentro de `impo_todo.zip`) mediante las visualizaciones vistas en clase. \n",
    "\n",
    "Tarea mínima Realizar:\n",
    "\n",
    "- un boxplot \n",
    "\n",
    "- un gráfico de barras que esté condicionado según aluna variable categórica.\n",
    "\n",
    "- un Histograma con KDE.\n",
    "\n",
    "- un gráfico de violín\n",
    "\n",
    "En cada uno de estos gráficos, justificar el objetivo del mismo, explicar qué información está brindando y qué criterios fueron tomados a la hora del armado del mismo. Puede utilizar el paquete de Python que desee. Es importante fijarse en el estilo del gráfico y la información que contiene. Pueden hacer otros gráficos para explorar los datos. "
   ]
  },
  {
   "cell_type": "code",
   "execution_count": null,
   "metadata": {},
   "outputs": [],
   "source": []
  },
  {
   "cell_type": "markdown",
   "metadata": {},
   "source": [
    "b.) En particular, encuentre las variables con alta correlación lineal y grafíquelas."
   ]
  },
  {
   "cell_type": "code",
   "execution_count": null,
   "metadata": {},
   "outputs": [],
   "source": []
  },
  {
   "cell_type": "markdown",
   "metadata": {},
   "source": [
    "c.) Seleccione los 10 países de donde proviene la mayor cantidad de importaciones y muestre el resultado en un gráfico de torta "
   ]
  },
  {
   "cell_type": "code",
   "execution_count": null,
   "metadata": {},
   "outputs": [],
   "source": []
  },
  {
   "cell_type": "markdown",
   "metadata": {},
   "source": [
    "### Ejercicio 2\n",
    "\n",
    "Utilizando la base de datos `SP500 oil gold bitcoin.csv`, grafique las series de tiempo de cada activo utilizando `Bokeh` y `seaborn`. "
   ]
  },
  {
   "cell_type": "markdown",
   "metadata": {},
   "source": []
  },
  {
   "cell_type": "code",
   "execution_count": null,
   "metadata": {},
   "outputs": [],
   "source": []
  }
 ],
 "metadata": {
  "kernelspec": {
   "display_name": "Python 3.9.12",
   "language": "python",
   "name": "python3"
  },
  "language_info": {
   "codemirror_mode": {
    "name": "ipython",
    "version": 3
   },
   "file_extension": ".py",
   "mimetype": "text/x-python",
   "name": "python",
   "nbconvert_exporter": "python",
   "pygments_lexer": "ipython3",
   "version": "3.9.12"
  },
  "orig_nbformat": 4,
  "vscode": {
   "interpreter": {
    "hash": "98b921049c439807c081d6616d9731da5920d3b6edca6190edeae5a80cc907f5"
   }
  }
 },
 "nbformat": 4,
 "nbformat_minor": 2
}
